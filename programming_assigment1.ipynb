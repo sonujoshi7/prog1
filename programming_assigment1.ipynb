{
 "cells": [
  {
   "cell_type": "code",
   "execution_count": null,
   "id": "e7d0d992",
   "metadata": {},
   "outputs": [],
   "source": [
    "# Write a Python program to print Hello ?\n",
    "print(\"hello\")"
   ]
  },
  {
   "cell_type": "code",
   "execution_count": null,
   "id": "f6637ad3",
   "metadata": {},
   "outputs": [],
   "source": [
    "# Write a Python program to do arithmetical operations addition and division.?\n",
    "a = int(input(\"enter a no 1\\n\"))\n",
    "b = int(input(\"enter a no 2\\n\"))\n",
    "print(a+b,a*b)"
   ]
  },
  {
   "cell_type": "code",
   "execution_count": null,
   "id": "d15c7d6d",
   "metadata": {},
   "outputs": [],
   "source": [
    "# Write a Python program to do arithmetical operations addition and division.?\n",
    "def area(b,h):\n",
    "    try:\n",
    "        a  = 0.5*b*h\n",
    "        return(a)\n",
    "    except Exception as e:\n",
    "        print(e)\n",
    "        \n",
    "        \n",
    "    "
   ]
  },
  {
   "cell_type": "code",
   "execution_count": null,
   "id": "6e5a8352",
   "metadata": {},
   "outputs": [],
   "source": [
    "# Write a Python program to swap two variables?\n",
    "a = int(input(\"enter a no 1\\n\"))\n",
    "b = int(input(\"enter a no 2\\n\"))\n",
    "a,b=b,a\n",
    "print(\"value of a is\",a)\n",
    "print(\"value of b is\",b)\n",
    "\n",
    "\n",
    "\n"
   ]
  },
  {
   "cell_type": "code",
   "execution_count": null,
   "id": "1c6b2184",
   "metadata": {},
   "outputs": [],
   "source": [
    "# Write a Python program to generate a random number?\n",
    "import random\n",
    "n = random.randint(0,100)\n",
    "print(n)\n"
   ]
  },
  {
   "cell_type": "code",
   "execution_count": null,
   "id": "7594ee4b",
   "metadata": {},
   "outputs": [],
   "source": []
  }
 ],
 "metadata": {
  "kernelspec": {
   "display_name": "Python 3 (ipykernel)",
   "language": "python",
   "name": "python3"
  },
  "language_info": {
   "codemirror_mode": {
    "name": "ipython",
    "version": 3
   },
   "file_extension": ".py",
   "mimetype": "text/x-python",
   "name": "python",
   "nbconvert_exporter": "python",
   "pygments_lexer": "ipython3",
   "version": "3.9.12"
  }
 },
 "nbformat": 4,
 "nbformat_minor": 5
}
